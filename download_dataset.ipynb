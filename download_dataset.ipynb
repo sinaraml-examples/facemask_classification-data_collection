{
 "cells": [
  {
   "cell_type": "code",
   "execution_count": null,
   "id": "1f0b2512-8ffc-4906-bdd7-4a06ee4c8b36",
   "metadata": {
    "editable": true,
    "slideshow": {
     "slide_type": ""
    },
    "tags": []
   },
   "outputs": [],
   "source": [
    "!pip install --upgrade dataset-tools"
   ]
  },
  {
   "cell_type": "code",
   "execution_count": null,
   "id": "17801733-88af-4f6f-b797-86b0b3734f2e",
   "metadata": {
    "editable": true,
    "slideshow": {
     "slide_type": ""
    },
    "tags": []
   },
   "outputs": [],
   "source": [
    "!sudo apt-get install -y libmagic1"
   ]
  },
  {
   "cell_type": "code",
   "execution_count": null,
   "id": "a73d0b32-edba-49d3-9f0c-c4da0f7dbbb3",
   "metadata": {
    "editable": true,
    "slideshow": {
     "slide_type": ""
    },
    "tags": []
   },
   "outputs": [],
   "source": [
    "import dataset_tools as dtools\n",
    "import os\n",
    "import os.path as osp\n",
    "\n",
    "download_dir = \"/raw/facemask_datasets/facemask_detection/\"\n",
    "os.makedirs(download_dir, exist_ok=True)\n",
    "dtools.download(dataset='Face Mask Detection', dst_dir=download_dir, unpack_archive=False)"
   ]
  },
  {
   "cell_type": "code",
   "execution_count": null,
   "id": "f70e2275-e7e9-4492-8494-11cf40d522cc",
   "metadata": {
    "editable": true,
    "slideshow": {
     "slide_type": ""
    },
    "tags": []
   },
   "outputs": [],
   "source": []
  }
 ],
 "metadata": {
  "kernelspec": {
   "display_name": "cv",
   "language": "python",
   "name": "python3"
  },
  "language_info": {
   "codemirror_mode": {
    "name": "ipython",
    "version": 3
   },
   "file_extension": ".py",
   "mimetype": "text/x-python",
   "name": "python",
   "nbconvert_exporter": "python",
   "pygments_lexer": "ipython3",
   "version": "3.10.12"
  }
 },
 "nbformat": 4,
 "nbformat_minor": 5
}
